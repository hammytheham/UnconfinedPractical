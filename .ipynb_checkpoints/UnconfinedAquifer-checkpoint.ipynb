{
 "cells": [
  {
   "cell_type": "markdown",
   "metadata": {},
   "source": [
    "# Unconfined Aquifer Practical\n",
    "This practical is a jupyter notebook version of Tutorial 2 of Flopy for demostrator purposes ONLY.\n",
    "\n",
    "The idea is that the guys should be aware of how the orginal script functions. Please DO NOT give them the answer => Direct them to the manual pages of Flopy and walk away. Give them a couple of minutes and come back in about 5 minutes once they have had a go and check they have been able to work it out."
   ]
  },
  {
   "cell_type": "code",
   "execution_count": 47,
   "metadata": {
    "collapsed": true
   },
   "outputs": [],
   "source": [
    "%matplotlib inline  \n",
    "import numpy as np                                                                  \n",
    "import flopy"
   ]
  },
  {
   "cell_type": "markdown",
   "metadata": {},
   "source": [
    "### Discretization\n",
    "We start by creating our flopy model object as follows:"
   ]
  },
  {
   "cell_type": "code",
   "execution_count": 48,
   "metadata": {
    "collapsed": true
   },
   "outputs": [],
   "source": [
    "# Assign name and create modflow model object                                    \n",
    "modelname = 'tutorial2'                                                          \n",
    "mf = flopy.modflow.Modflow(modelname, exe_name='/Applications/mf2005/mf2005')   "
   ]
  },
  {
   "cell_type": "markdown",
   "metadata": {},
   "source": [
    "Next, let’s proceed by defining our model domain and creating a MODFLOW grid to span the domain:"
   ]
  },
  {
   "cell_type": "code",
   "execution_count": 49,
   "metadata": {
    "collapsed": true
   },
   "outputs": [],
   "source": [
    "# Model domain and grid definition\n",
    "# What do each one of these lines do? \n",
    "Lx = 1000.                                                                       \n",
    "Ly = 1000.                                                                       \n",
    "ztop = 0.                                                                        \n",
    "zbot = -50.                                                                      \n",
    "nlay = 1                                                                         \n",
    "nrow = 10                                                                        \n",
    "ncol = 10                                                                        \n",
    "delr = Lx/ncol                                                                   \n",
    "delc = Ly/nrow \n",
    "delv = (ztop - zbot) / nlay                                                      \n",
    "botm = np.linspace(ztop, zbot, nlay + 1)  "
   ]
  },
  {
   "cell_type": "markdown",
   "metadata": {},
   "source": [
    "The obvious question at this point is, how do I know which arguments are required by this strange thing called flopy.modflow.ModflowDis? Fortunately, there is an online help page for each one of the model objects. The page for the DIS input file is located at http://modflowpy.github.io/flopydoc/mfdis.html. Having a second screen (or another computer) is really handy when doing this kind of stuff as it allows you to look at stack overflow or the manual page to understand whats going on and develop your models."
   ]
  },
  {
   "cell_type": "markdown",
   "metadata": {},
   "source": [
    "## Basic Package\n",
    "\n",
    "Next we can create a flopy object that represents the MODFLOW Basic Package. Details on the flopy BAS class are at: http://modflowpy.github.io/flopydoc/mfbas.html. For this simple model, we will assign constant head values of 10. and 0. to the first and last model columns (in all layers), respectively. The python code for doing this is:"
   ]
  },
  {
   "cell_type": "code",
   "execution_count": 50,
   "metadata": {
    "collapsed": false
   },
   "outputs": [],
   "source": [
    "# Variables for the BAS package\n",
    "ibound = np.ones((nlay, nrow, ncol), dtype=np.int32)\n",
    "strt = 10. * np.ones((nlay, nrow, ncol), dtype=np.float32)"
   ]
  },
  {
   "cell_type": "markdown",
   "metadata": {},
   "source": [
    "Questions (for yourself), whats going on with np.ones((....),dtype=np.int32) etc?\n",
    "What cells does strt[:, :, 0] refer to etc?\n",
    "Use some paper to go through these lines, line by line to understand what is happening on a programing level. Also (and I know I said I wouldn't do this again), use print and type!! Looking at ibound and strt with print is an aweeessssoooommmmeee idea."
   ]
  },
  {
   "cell_type": "markdown",
   "metadata": {},
   "source": [
    "## Layer-Property Flow Package\n",
    "\n",
    "Details on the flopy LPF class are at: http://modflowpy.github.io/flopydoc/mflpf.html. Values of 10. are assigned for the horizontal and vertical hydraulic conductivity:"
   ]
  },
  {
   "cell_type": "code",
   "execution_count": 51,
   "metadata": {
    "collapsed": true
   },
   "outputs": [],
   "source": [
    "hk=1\n",
    "vka=1\n",
    "sy=0.1\n",
    "ss = 1.e-4\n",
    "laytyp = 1"
   ]
  },
  {
   "cell_type": "code",
   "execution_count": 52,
   "metadata": {
    "collapsed": false
   },
   "outputs": [],
   "source": [
    "# Add LPF package to the MODFLOW model                                           \n",
    "lpf = flopy.modflow.ModflowLpf(mf, hk=hk, vka=vka, sy=sy, ss=ss, laytyp=laytyp)"
   ]
  },
  {
   "cell_type": "markdown",
   "metadata": {},
   "source": [
    "Because we did not specify a value for laytyp, Flopy will use the default value of 0, which means that this model will be confined."
   ]
  },
  {
   "cell_type": "markdown",
   "metadata": {},
   "source": [
    "# Time Step Parameters"
   ]
  },
  {
   "cell_type": "code",
   "execution_count": 53,
   "metadata": {
    "collapsed": true
   },
   "outputs": [],
   "source": [
    "nper = 3 # The number of stress periods.\n",
    "perlen = [1, 100, 100] # The length of stress period\n",
    "nstp = [1, 100, 100] # The number of time steps\n",
    "steady = [True, False, False] # True = Steady, False = transient \n"
   ]
  },
  {
   "cell_type": "markdown",
   "metadata": {},
   "source": [
    "With this information, we can now create the flopy discretization object by entering the following:"
   ]
  },
  {
   "cell_type": "code",
   "execution_count": 54,
   "metadata": {
    "collapsed": false,
    "scrolled": true
   },
   "outputs": [],
   "source": [
    "dis = flopy.modflow.ModflowDis(mf, nlay, nrow, ncol, delr=delr, delc=delc,\n",
    "                               top=ztop, botm=botm[1:], nper=nper, perlen=perlen, nstp=nstp, steady=steady)"
   ]
  },
  {
   "cell_type": "code",
   "execution_count": 55,
   "metadata": {
    "collapsed": false
   },
   "outputs": [
    {
     "name": "stdout",
     "output_type": "stream",
     "text": [
      "Adding  20 GHBs for stress period 1.\n",
      "Adding  20 GHBs for stress period 2.\n"
     ]
    }
   ],
   "source": [
    "stageleft = 10. #General head on the left boundary\n",
    "stageright = 10. #General head on the right boundary\n",
    "bound_sp1 = []\n",
    "for il in range(nlay):\n",
    "    condleft = hk * (stageleft - zbot) * delc\t#conductance on the left boundary\n",
    "    condright = hk * (stageright - zbot) * delc\t#conductance on the right boundary\n",
    "for ir in range(nrow):\n",
    "    bound_sp1.append([il, ir, 0, stageleft, condleft])\n",
    "    bound_sp1.append([il, ir, ncol - 1, stageright, condright])\n",
    "print ('Adding ', len(bound_sp1), 'GHBs for stress period 1.')\n",
    "\n",
    "# Make list for stress period 2\n",
    "stageleft = 10.\n",
    "stageright = 0.\n",
    "condleft = hk * (stageleft - zbot) * delc\n",
    "condright = hk * (stageright - zbot) * delc\n",
    "bound_sp2 = []\n",
    "for il in range(nlay):\n",
    "    for ir in range(nrow):\n",
    "        bound_sp2.append([il, ir, 0, stageleft, condleft])\n",
    "        bound_sp2.append([il, ir, ncol - 1, stageright, condright])\n",
    "print ('Adding ', len(bound_sp2), 'GHBs for stress period 2.')\n",
    "\n",
    "# We do not need to add a dictionary entry for stress period 3.\n",
    "# Flopy will automatically take the list from stress period 2 and apply it to the end of the simulation, if necessary.\n",
    "\n",
    "stress_period_data = {0: bound_sp1, 1: bound_sp2}\n",
    "\n",
    "# Create the flopy ghb object\n",
    "ghb = flopy.modflow.ModflowGhb(mf, stress_period_data=stress_period_data)\n"
   ]
  },
  {
   "cell_type": "code",
   "execution_count": null,
   "metadata": {
    "collapsed": true
   },
   "outputs": [],
   "source": []
  },
  {
   "cell_type": "markdown",
   "metadata": {},
   "source": [
    "# Well Package"
   ]
  },
  {
   "cell_type": "code",
   "execution_count": 56,
   "metadata": {
    "collapsed": false
   },
   "outputs": [],
   "source": [
    "pumping_rate = -100.   # The abstraction must be negative number\n",
    "wel_sp1 = [[0, nrow/2 - 1, ncol/2 - 1, 0.]] # [lay, row, col, flux]\n",
    "wel_sp2 = [[0, nrow/2 - 1, ncol/2 - 1, 0.]] # [lay, row, col, flux]\n",
    "wel_sp3 = [[0, nrow/2 - 1, ncol/2 - 1, pumping_rate]]\n",
    "stress_period_data = {0: wel_sp1, 1: wel_sp2, 2: wel_sp3}\n",
    "wel = flopy.modflow.ModflowWel(mf, stress_period_data=stress_period_data)"
   ]
  },
  {
   "cell_type": "code",
   "execution_count": null,
   "metadata": {
    "collapsed": true
   },
   "outputs": [],
   "source": []
  },
  {
   "cell_type": "markdown",
   "metadata": {},
   "source": [
    "## Output Control\n",
    "\n",
    "Details on the flopy OC class are at: http://modflowpy.github.io/flopydoc/mfoc.html. Here we can use the default OC settings by specifying the following:"
   ]
  },
  {
   "cell_type": "code",
   "execution_count": 57,
   "metadata": {
    "collapsed": false
   },
   "outputs": [],
   "source": [
    "# Add OC package to the MODFLOW model\n",
    "spd = {(0, 0): ['print head', 'save head', 'print budget', 'save budget']}\n",
    "oc = flopy.modflow.ModflowOc(mf,stress_period_data=spd)"
   ]
  },
  {
   "cell_type": "markdown",
   "metadata": {},
   "source": [
    "## Preconditioned Conjugate Gradient Package\n",
    "\n",
    "Details on the flopy PCG class are at: http://modflowpy.github.io/flopydoc/mfpcg.html. The default settings used by flopy will be used by specifying the following commands:\n"
   ]
  },
  {
   "cell_type": "code",
   "execution_count": 58,
   "metadata": {
    "collapsed": true
   },
   "outputs": [],
   "source": [
    "# Add PCG package to the MODFLOW model\n",
    "pcg = flopy.modflow.ModflowPcg(mf)"
   ]
  },
  {
   "cell_type": "markdown",
   "metadata": {},
   "source": [
    "## Writing the MODFLOW Data Files\n",
    "\n",
    "The MODFLOW input data files are written by simply issuing the following:"
   ]
  },
  {
   "cell_type": "code",
   "execution_count": 59,
   "metadata": {
    "collapsed": false
   },
   "outputs": [
    {
     "ename": "ZeroDivisionError",
     "evalue": "integer division or modulo by zero",
     "output_type": "error",
     "traceback": [
      "\u001b[0;31m---------------------------------------------------------------------------\u001b[0m",
      "\u001b[0;31mZeroDivisionError\u001b[0m                         Traceback (most recent call last)",
      "\u001b[0;32m<ipython-input-59-ed6808c263c6>\u001b[0m in \u001b[0;36m<module>\u001b[0;34m()\u001b[0m\n\u001b[1;32m      1\u001b[0m \u001b[0;31m# Write the MODFLOW model input files\u001b[0m\u001b[0;34m\u001b[0m\u001b[0;34m\u001b[0m\u001b[0m\n\u001b[0;32m----> 2\u001b[0;31m \u001b[0mmf\u001b[0m\u001b[0;34m.\u001b[0m\u001b[0mwrite_input\u001b[0m\u001b[0;34m(\u001b[0m\u001b[0;34m)\u001b[0m\u001b[0;34m\u001b[0m\u001b[0m\n\u001b[0m",
      "\u001b[0;32m/Users/hamishrobertson/anaconda3/lib/python3.5/site-packages/flopy/mbase.py\u001b[0m in \u001b[0;36mwrite_input\u001b[0;34m(self, SelPackList, check)\u001b[0m\n\u001b[1;32m    932\u001b[0m                 \u001b[0;31m# or default for package level check would have to be False\u001b[0m\u001b[0;34m\u001b[0m\u001b[0;34m\u001b[0m\u001b[0m\n\u001b[1;32m    933\u001b[0m                 \u001b[0;32mtry\u001b[0m\u001b[0;34m:\u001b[0m\u001b[0;34m\u001b[0m\u001b[0m\n\u001b[0;32m--> 934\u001b[0;31m                     \u001b[0mp\u001b[0m\u001b[0;34m.\u001b[0m\u001b[0mwrite_file\u001b[0m\u001b[0;34m(\u001b[0m\u001b[0mcheck\u001b[0m\u001b[0;34m=\u001b[0m\u001b[0;32mFalse\u001b[0m\u001b[0;34m)\u001b[0m\u001b[0;34m\u001b[0m\u001b[0m\n\u001b[0m\u001b[1;32m    935\u001b[0m                 \u001b[0;32mexcept\u001b[0m \u001b[0mTypeError\u001b[0m\u001b[0;34m:\u001b[0m\u001b[0;34m\u001b[0m\u001b[0m\n\u001b[1;32m    936\u001b[0m                     \u001b[0mp\u001b[0m\u001b[0;34m.\u001b[0m\u001b[0mwrite_file\u001b[0m\u001b[0;34m(\u001b[0m\u001b[0;34m)\u001b[0m\u001b[0;34m\u001b[0m\u001b[0m\n",
      "\u001b[0;32m/Users/hamishrobertson/anaconda3/lib/python3.5/site-packages/flopy/modflow/mflpf.py\u001b[0m in \u001b[0;36mwrite_file\u001b[0;34m(self, check)\u001b[0m\n\u001b[1;32m    292\u001b[0m                                                          self.options))\n\u001b[1;32m    293\u001b[0m         \u001b[0;31m# LAYTYP array\u001b[0m\u001b[0;34m\u001b[0m\u001b[0;34m\u001b[0m\u001b[0m\n\u001b[0;32m--> 294\u001b[0;31m         \u001b[0mf\u001b[0m\u001b[0;34m.\u001b[0m\u001b[0mwrite\u001b[0m\u001b[0;34m(\u001b[0m\u001b[0mself\u001b[0m\u001b[0;34m.\u001b[0m\u001b[0mlaytyp\u001b[0m\u001b[0;34m.\u001b[0m\u001b[0mstring\u001b[0m\u001b[0;34m)\u001b[0m\u001b[0;34m\u001b[0m\u001b[0m\n\u001b[0m\u001b[1;32m    295\u001b[0m         \u001b[0;31m# LAYAVG array\u001b[0m\u001b[0;34m\u001b[0m\u001b[0;34m\u001b[0m\u001b[0m\n\u001b[1;32m    296\u001b[0m         \u001b[0mf\u001b[0m\u001b[0;34m.\u001b[0m\u001b[0mwrite\u001b[0m\u001b[0;34m(\u001b[0m\u001b[0mself\u001b[0m\u001b[0;34m.\u001b[0m\u001b[0mlayavg\u001b[0m\u001b[0;34m.\u001b[0m\u001b[0mstring\u001b[0m\u001b[0;34m)\u001b[0m\u001b[0;34m\u001b[0m\u001b[0m\n",
      "\u001b[0;32m/Users/hamishrobertson/anaconda3/lib/python3.5/site-packages/flopy/utils/util_array.py\u001b[0m in \u001b[0;36mstring\u001b[0;34m(self)\u001b[0m\n\u001b[1;32m   2168\u001b[0m         \u001b[0;31m# convert array to sting with specified format\u001b[0m\u001b[0;34m\u001b[0m\u001b[0;34m\u001b[0m\u001b[0m\n\u001b[1;32m   2169\u001b[0m         a_string = self.array2string(self.shape, self._array,\n\u001b[0;32m-> 2170\u001b[0;31m                                      python_format=self.format.py)\n\u001b[0m\u001b[1;32m   2171\u001b[0m         \u001b[0;32mreturn\u001b[0m \u001b[0ma_string\u001b[0m\u001b[0;34m\u001b[0m\u001b[0m\n\u001b[1;32m   2172\u001b[0m \u001b[0;34m\u001b[0m\u001b[0m\n",
      "\u001b[0;32m/Users/hamishrobertson/anaconda3/lib/python3.5/site-packages/flopy/utils/util_array.py\u001b[0m in \u001b[0;36marray2string\u001b[0;34m(shape, data, fortran_format, python_format)\u001b[0m\n\u001b[1;32m   2374\u001b[0m                                 \u001b[0;34m+\u001b[0m \u001b[0;34m'   [column_length, fmt]\\n'\u001b[0m\u001b[0;34m\u001b[0m\u001b[0m\n\u001b[1;32m   2375\u001b[0m                                 + '    e.g., [10, {0:10.2e}]')\n\u001b[0;32m-> 2376\u001b[0;31m         \u001b[0;32mif\u001b[0m \u001b[0mncol\u001b[0m \u001b[0;34m%\u001b[0m \u001b[0mcolumn_length\u001b[0m \u001b[0;34m==\u001b[0m \u001b[0;36m0\u001b[0m\u001b[0;34m:\u001b[0m\u001b[0;34m\u001b[0m\u001b[0m\n\u001b[0m\u001b[1;32m   2377\u001b[0m             \u001b[0mlinereturnflag\u001b[0m \u001b[0;34m=\u001b[0m \u001b[0;32mFalse\u001b[0m\u001b[0;34m\u001b[0m\u001b[0m\n\u001b[1;32m   2378\u001b[0m         \u001b[0;32melse\u001b[0m\u001b[0;34m:\u001b[0m\u001b[0;34m\u001b[0m\u001b[0m\n",
      "\u001b[0;31mZeroDivisionError\u001b[0m: integer division or modulo by zero"
     ]
    }
   ],
   "source": [
    "# Write the MODFLOW model input files\n",
    "mf.write_input()"
   ]
  },
  {
   "cell_type": "markdown",
   "metadata": {},
   "source": [
    "## Running the Modeling\n",
    "Flopy can also be used to run the model. The model object (mf in this example) has an attached method that will run the model. For this to work, the MODFLOW program must be located somewhere within the system path, or within the working directory. In this example, we have specified that the name of the executable program is ‘mf2005’. Issue the following to run the model:"
   ]
  },
  {
   "cell_type": "code",
   "execution_count": null,
   "metadata": {
    "collapsed": false
   },
   "outputs": [],
   "source": [
    "# Run the MODFLOW model\n",
    "success, mfoutput = mf.run_model(silent=True, pause=False, report=True)\n",
    "if not success:\n",
    "    raise Exception('MODFLOW did not terminate normally.')\n"
   ]
  },
  {
   "cell_type": "markdown",
   "metadata": {},
   "source": [
    "Here we have used run_model, and we could also have specified values for the optional keywords silent, pause, and report."
   ]
  },
  {
   "cell_type": "markdown",
   "metadata": {},
   "source": [
    "## Post-Processing the Results\n",
    "Now that we have successfully built and run our MODFLOW model, we can look at the results. MODFLOW writes the simulated heads to a binary data output file. We cannot look at these heads with a text editor, but flopy has a binary utility that can be used to read the heads. The following statements will read the binary head file and create a plot of simulated heads for layer 1:"
   ]
  },
  {
   "cell_type": "code",
   "execution_count": null,
   "metadata": {
    "collapsed": false
   },
   "outputs": [],
   "source": [
    "# Post process the results                                                       \n",
    "import matplotlib.pyplot as plt                                                  \n",
    "import flopy.utils.binaryfile as bf                                              \n",
    "fig = plt.figure(figsize=(10,10))                                                \n",
    "ax = fig.add_subplot(1, 1, 1, aspect='equal')                                    \n",
    "                                                                                  \n",
    "hds = bf.HeadFile(modelname+'.hds')                                              \n",
    "times = hds.get_times()                                                          \n",
    "head = hds.get_data(totim=times[-1])                                             \n",
    "levels = np.linspace(0, 10, 11)                                                  \n",
    "                                                                                  \n",
    "cbb = bf.CellBudgetFile(modelname+'.cbc')                                        \n",
    "kstpkper_list = cbb.get_kstpkper()                                               \n",
    "frf = cbb.get_data(text='FLOW RIGHT FACE', totim=times[-1])[0]                   \n",
    "fff = cbb.get_data(text='FLOW FRONT FACE', totim=times[-1])[0]                   \n",
    "                                                                                  \n",
    "modelmap = flopy.plot.ModelMap(model=mf, layer=0)                                \n",
    "qm = modelmap.plot_ibound()                                                      \n",
    "lc = modelmap.plot_grid()                                                        \n",
    "cs = modelmap.contour_array(head, levels=levels)                                 \n",
    "quiver = modelmap.plot_discharge(frf, fff, head=head)                            \n",
    "plt.show()    "
   ]
  },
  {
   "cell_type": "code",
   "execution_count": null,
   "metadata": {
    "collapsed": true
   },
   "outputs": [],
   "source": []
  }
 ],
 "metadata": {
  "anaconda-cloud": {},
  "kernelspec": {
   "display_name": "Python [conda root]",
   "language": "python",
   "name": "conda-root-py"
  },
  "language_info": {
   "codemirror_mode": {
    "name": "ipython",
    "version": 3
   },
   "file_extension": ".py",
   "mimetype": "text/x-python",
   "name": "python",
   "nbconvert_exporter": "python",
   "pygments_lexer": "ipython3",
   "version": "3.5.2"
  }
 },
 "nbformat": 4,
 "nbformat_minor": 2
}
